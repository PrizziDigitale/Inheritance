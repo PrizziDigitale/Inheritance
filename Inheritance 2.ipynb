{
 "cells": [
  {
   "cell_type": "markdown",
   "id": "a2cbdab6",
   "metadata": {},
   "source": [
    "## Step 1. Create the Animal super class which initiates the animal with a name."
   ]
  },
  {
   "cell_type": "code",
   "execution_count": 38,
   "id": "ff5b50c8",
   "metadata": {},
   "outputs": [],
   "source": [
    "class Animal:\n",
    "    def __init__(self, name):\n",
    "        self.name = name\n",
    "    def get_name(self):\n",
    "        return f'{self.name}'"
   ]
  },
  {
   "cell_type": "markdown",
   "id": "debc2a8b",
   "metadata": {},
   "source": [
    "## Step 2. Create the animal group type sub-class. I don't think this was needed for this problem, but it could be useful for other types of problems, and I wanted to play with it."
   ]
  },
  {
   "cell_type": "code",
   "execution_count": 39,
   "id": "21deb1d8",
   "metadata": {},
   "outputs": [],
   "source": [
    "class Mammal(Animal):\n",
    "    def animal_type(self):\n",
    "        return f'{self.name} is a {type(self).__name__}, which is in the Mammal group.'\n",
    "        \n",
    "class Bird(Animal):\n",
    "    def animal_type(self):\n",
    "        return f'{self.name} is a {type(self).__name__}, which is in the Bird group.'\n",
    "        \n",
    "class Amphibian(Animal):\n",
    "    def animal_type(self):\n",
    "        return f'{self.name} is a {type(self).__name__}, which is in the Amphibian group.'\n",
    "        \n",
    "class Fish(Animal):\n",
    "    def animal_type(self):\n",
    "        return f'{self.name} is a {type(self).__name__}, which is in the Fish group.'"
   ]
  },
  {
   "cell_type": "markdown",
   "id": "d27bc454",
   "metadata": {},
   "source": [
    "## Step 3. Create the movement class."
   ]
  },
  {
   "cell_type": "code",
   "execution_count": 40,
   "id": "acaa3be1",
   "metadata": {},
   "outputs": [],
   "source": [
    "class Run:\n",
    "    def run(self):\n",
    "        return f'{self.name} likes to run at {self.run_speed} mph.'\n",
    "    \n",
    "class Walk:\n",
    "    def walk(self):\n",
    "        return f'{self.name} likes to walk in the forest.'\n",
    "    \n",
    "class Hop:\n",
    "    def hop(self):\n",
    "        return f'{self.name} hops from place to place.'\n",
    "    \n",
    "class Fly:\n",
    "    def fly(self):\n",
    "        return f'{self.name} likes to fly in the sky.'\n",
    "    \n",
    "class Swim:\n",
    "    def swim(self):\n",
    "        return f'{self.name} likes to swim at a depth of {self.depth} feet.'\n",
    "    \n",
    "class Howl:\n",
    "    def howl(self):\n",
    "        return f'{self.name} likes to howl at the moon!'    \n",
    "    \n",
    "class Honey:\n",
    "    def honey(self):\n",
    "        return f'{self.name} likes to eat honey!'"
   ]
  },
  {
   "cell_type": "markdown",
   "id": "269dbe52",
   "metadata": {},
   "source": [
    "## Step 3. Create the individual animal species classes."
   ]
  },
  {
   "cell_type": "code",
   "execution_count": 41,
   "id": "e398ae61",
   "metadata": {},
   "outputs": [],
   "source": [
    "class Wolf(Mammal, Run, Walk, Howl):\n",
    "    def __init__(self, name, run_speed):\n",
    "        super().__init__(name)\n",
    "        self.run_speed = run_speed\n",
    "    def __str__(self):\n",
    "        return f'{self.get_name()} is a Wolf.'\n",
    "    \n",
    "class Bear(Mammal, Run, Walk, Honey):\n",
    "    def __init__(self, name, run_speed):\n",
    "        super().__init__(name)\n",
    "        self.run_speed = run_speed\n",
    "    def __str__(self):\n",
    "        return f'{self.get_name()} is a Bear.'\n",
    "        \n",
    "class Eagle(Bird, Fly):\n",
    "    def __init__(self, name):\n",
    "        super().__init__(name)\n",
    "    def __str__(self):\n",
    "        return f'{self.get_name()} is an Eagle.'\n",
    "        \n",
    "class Duck(Bird, Fly, Walk, Swim):\n",
    "    def __init__(self, name, depth):\n",
    "        super().__init__(name)\n",
    "        self.depth = depth\n",
    "    def __str__(self):\n",
    "        return f'{self.get_name()} is a Duck.'\n",
    "        \n",
    "class Frog(Amphibian, Hop, Swim):\n",
    "    def __init__(self, name, depth):\n",
    "        super().__init__(name)\n",
    "        self.depth = depth\n",
    "    def __str__(self):\n",
    "        return f'{self.get_name()} is a Frog.'\n",
    "        \n",
    "class Trout(Fish, Swim):\n",
    "    def __init__(self, name, depth):\n",
    "        super().__init__(name)\n",
    "        self.depth = depth\n",
    "    def __str__(self):\n",
    "        return f'{self.get_name()} is a Fish.'"
   ]
  },
  {
   "cell_type": "markdown",
   "id": "6b1eb4a1",
   "metadata": {},
   "source": [
    "## Step 4. Create instances of the animals and test the methods."
   ]
  },
  {
   "cell_type": "code",
   "execution_count": 42,
   "id": "840d7d90",
   "metadata": {},
   "outputs": [
    {
     "name": "stdout",
     "output_type": "stream",
     "text": [
      "Lupo is a Wolf.\n",
      "Lupo likes to run at 37 mph.\n",
      "Lupo likes to walk in the forest.\n",
      "Lupo likes to howl at the moon!\n",
      "Lupo is a Wolf, which is in the Mammal group.\n"
     ]
    }
   ],
   "source": [
    "w = Wolf('Lupo', 37)\n",
    "print(w)\n",
    "print(w.run())\n",
    "print(w.walk())\n",
    "print(w.howl())\n",
    "print(w.animal_type())\n"
   ]
  },
  {
   "cell_type": "code",
   "execution_count": 43,
   "id": "862ea478",
   "metadata": {},
   "outputs": [
    {
     "name": "stdout",
     "output_type": "stream",
     "text": [
      "Smokey is a Bear.\n",
      "Smokey likes to run at 35 mph.\n",
      "Smokey likes to walk in the forest.\n",
      "Smokey likes to eat honey!\n",
      "Smokey is a Bear, which is in the Mammal group.\n"
     ]
    }
   ],
   "source": [
    "b = Bear('Smokey', 35)\n",
    "print(b)\n",
    "print(b.run())\n",
    "print(b.walk())\n",
    "print(b.honey())\n",
    "print(b.animal_type())"
   ]
  },
  {
   "cell_type": "code",
   "execution_count": 44,
   "id": "61741681",
   "metadata": {},
   "outputs": [
    {
     "name": "stdout",
     "output_type": "stream",
     "text": [
      "Baldie is an Eagle.\n",
      "Baldie likes to fly in the sky.\n",
      "Baldie is a Eagle, which is in the Bird group.\n"
     ]
    }
   ],
   "source": [
    "e = Eagle('Baldie')\n",
    "print(e)\n",
    "print(e.fly())\n",
    "print(e.animal_type())"
   ]
  },
  {
   "cell_type": "code",
   "execution_count": 45,
   "id": "4dc270f2",
   "metadata": {},
   "outputs": [
    {
     "name": "stdout",
     "output_type": "stream",
     "text": [
      "Donald is a Duck.\n",
      "Donald likes to fly in the sky.\n",
      "Donald likes to walk in the forest.\n",
      "Donald likes to swim at a depth of 5 feet.\n",
      "Donald is a Duck, which is in the Bird group.\n"
     ]
    }
   ],
   "source": [
    "d = Duck('Donald', 5)\n",
    "print(d)\n",
    "print(d.fly())\n",
    "print(d.walk())\n",
    "print(d.swim())\n",
    "print(d.animal_type())"
   ]
  },
  {
   "cell_type": "code",
   "execution_count": 46,
   "id": "18ac99ae",
   "metadata": {},
   "outputs": [
    {
     "name": "stdout",
     "output_type": "stream",
     "text": [
      "Kermit is a Frog.\n",
      "Kermit hops from place to place.\n",
      "Kermit likes to swim at a depth of 15 feet.\n",
      "Kermit is a Frog, which is in the Amphibian group.\n"
     ]
    }
   ],
   "source": [
    "f = Frog('Kermit', 15)\n",
    "print(f)\n",
    "print(f.hop())\n",
    "print(f.swim())\n",
    "print(f.animal_type())"
   ]
  },
  {
   "cell_type": "code",
   "execution_count": 47,
   "id": "fb29b2b9",
   "metadata": {},
   "outputs": [
    {
     "name": "stdout",
     "output_type": "stream",
     "text": [
      "Tommy is a Fish.\n",
      "Tommy likes to swim at a depth of 30 feet.\n",
      "Tommy is a Trout, which is in the Fish group.\n"
     ]
    }
   ],
   "source": [
    "t = Trout('Tommy', 30)\n",
    "print(t)\n",
    "print(t.swim())\n",
    "print(t.animal_type())"
   ]
  }
 ],
 "metadata": {
  "kernelspec": {
   "display_name": "Python 3 (ipykernel)",
   "language": "python",
   "name": "python3"
  },
  "language_info": {
   "codemirror_mode": {
    "name": "ipython",
    "version": 3
   },
   "file_extension": ".py",
   "mimetype": "text/x-python",
   "name": "python",
   "nbconvert_exporter": "python",
   "pygments_lexer": "ipython3",
   "version": "3.10.0"
  }
 },
 "nbformat": 4,
 "nbformat_minor": 5
}
