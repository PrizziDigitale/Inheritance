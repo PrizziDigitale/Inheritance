{
 "cells": [
  {
   "cell_type": "markdown",
   "id": "a2a2b841",
   "metadata": {},
   "source": [
    "## Step 1. Create the basic class to represent an animal."
   ]
  },
  {
   "cell_type": "code",
   "execution_count": 91,
   "id": "677b71e9",
   "metadata": {},
   "outputs": [],
   "source": [
    "class Animal:\n",
    "    def __init__(self, name):\n",
    "        self.name = name\n",
    "    def __repr__(self):\n",
    "        return f'{self.name}'"
   ]
  },
  {
   "cell_type": "markdown",
   "id": "b4cab5bf",
   "metadata": {},
   "source": [
    "## Step 2. Create a hierarchy for the six animals described that minimizes repeated code."
   ]
  },
  {
   "cell_type": "markdown",
   "id": "57043010",
   "metadata": {},
   "source": [
    "### Create the type of animal."
   ]
  },
  {
   "cell_type": "code",
   "execution_count": 92,
   "id": "f6e3e4bc",
   "metadata": {},
   "outputs": [],
   "source": [
    "class Mammal(Animal):\n",
    "    def __init__(self, name):\n",
    "        super().__init__(name)\n",
    "        \n",
    "class Bird(Animal):\n",
    "    def __init__(self, name):\n",
    "        super().__init__(name)\n",
    "        \n",
    "class Amphibian(Animal):\n",
    "    def __init__(self, name, depth):\n",
    "        super().__init__(name)\n",
    "        self.depth = depth\n",
    "        \n",
    "    def __repr__(self):\n",
    "        return f'{self.name} swims at a depth of {self.depth}.'\n",
    "    \n",
    "class Fish(Animal):\n",
    "    def __init__(self, name, depth):\n",
    "        super().__init__(name)\n",
    "        self.depth = depth\n",
    "        \n",
    "    def __repr__(self):\n",
    "        return f'{self.name} swims at a depth of {self.depth}.'"
   ]
  },
  {
   "cell_type": "markdown",
   "id": "269dbe52",
   "metadata": {},
   "source": [
    "### Create the individual animal species."
   ]
  },
  {
   "cell_type": "code",
   "execution_count": 93,
   "id": "e398ae61",
   "metadata": {},
   "outputs": [],
   "source": [
    "class Wolf(Mammal):\n",
    "    def __init__(self, name):\n",
    "        super().__init__(name)\n",
    "\n",
    "class Bear(Mammal):\n",
    "    def __init__(self, name):\n",
    "        super().__init__(name)\n",
    "        \n",
    "class Eagle(Bird):\n",
    "    def __init__(self, name):\n",
    "        super().__init__(name)\n",
    "        \n",
    "class Duck(Bird):\n",
    "    def __init__(self, name):\n",
    "        super().__init__(name)\n",
    "        \n",
    "class Frog(Amphibian):\n",
    "    def __init__(self, name, depth):\n",
    "        super().__init__(name, depth)\n",
    "        \n",
    "class Trout(Fish):\n",
    "    def __init__(self, name, depth):\n",
    "        super().__init__(name, depth)"
   ]
  }
 ],
 "metadata": {
  "kernelspec": {
   "display_name": "Python 3 (ipykernel)",
   "language": "python",
   "name": "python3"
  },
  "language_info": {
   "codemirror_mode": {
    "name": "ipython",
    "version": 3
   },
   "file_extension": ".py",
   "mimetype": "text/x-python",
   "name": "python",
   "nbconvert_exporter": "python",
   "pygments_lexer": "ipython3",
   "version": "3.10.0"
  }
 },
 "nbformat": 4,
 "nbformat_minor": 5
}
