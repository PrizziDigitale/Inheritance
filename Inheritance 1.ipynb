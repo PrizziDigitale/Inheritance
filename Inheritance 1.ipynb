{
 "cells": [
  {
   "cell_type": "markdown",
   "id": "a2a2b841",
   "metadata": {},
   "source": [
    "## Step 1. Create the basic class to represent an animal."
   ]
  },
  {
   "cell_type": "code",
   "execution_count": 77,
   "id": "677b71e9",
   "metadata": {},
   "outputs": [],
   "source": [
    "class Animal:\n",
    "    def __init__(self, name):\n",
    "        self.name = name\n",
    "    def __repr__(self):\n",
    "        return self.name"
   ]
  },
  {
   "cell_type": "markdown",
   "id": "b4cab5bf",
   "metadata": {},
   "source": [
    "## Step 2. Create a hierarchy for the six animals described that minimizes repeated code."
   ]
  },
  {
   "cell_type": "markdown",
   "id": "57043010",
   "metadata": {},
   "source": [
    "### Create the type of animal."
   ]
  },
  {
   "cell_type": "code",
   "execution_count": 78,
   "id": "f6e3e4bc",
   "metadata": {},
   "outputs": [],
   "source": [
    "class Mammal(Animal):\n",
    "    def __init__(self, name):\n",
    "        super().__init__(name)\n",
    "    def run(self):\n",
    "        return f'{self} is a Mammal and likes to run through the woods.'\n",
    "        \n",
    "class Bird(Animal):\n",
    "    def __init__(self, name):\n",
    "        super().__init__(name)\n",
    "    def fly(self):\n",
    "        return f'{self} is a Bird and likes to fly in the sky.'\n",
    "        \n",
    "class Amphibian(Animal):\n",
    "    def __init__(self, name, depth):\n",
    "        super().__init__(name)\n",
    "        self.depth = depth\n",
    "    def lives_in(self):\n",
    "        return f'{self} is an Amphibian who lives on the land, and in the water.'\n",
    "        \n",
    "class Fish(Animal):\n",
    "    def __init__(self, name, depth):\n",
    "        super().__init__(name)\n",
    "        self.depth = depth\n",
    "    def swims(self):\n",
    "        return f'{self} is a Fish and loves to swim.'"
   ]
  },
  {
   "cell_type": "markdown",
   "id": "269dbe52",
   "metadata": {},
   "source": [
    "### Create the individual animal species."
   ]
  },
  {
   "cell_type": "code",
   "execution_count": 79,
   "id": "e398ae61",
   "metadata": {},
   "outputs": [],
   "source": [
    "class Wolf(Mammal):\n",
    "    def __init__(self, name):\n",
    "        super().__init__(name)\n",
    "    def howl(self):\n",
    "        return f'{self} is a Wolf and likes to howl'\n",
    "\n",
    "class Bear(Mammal):\n",
    "    def __init__(self, name):\n",
    "        super().__init__(name)\n",
    "    def honey(self):\n",
    "        return f'{self} is a Bear and loves honey.'\n",
    "        \n",
    "class Eagle(Bird):\n",
    "    def __init__(self, name):\n",
    "        super().__init__(name)\n",
    "    def soar(self):\n",
    "        return f'{self} is an Eagle and soars in the sky.'\n",
    "        \n",
    "class Duck(Bird):\n",
    "    def __init__(self, name):\n",
    "        super().__init__(name)\n",
    "    def paddle_waddle(self):\n",
    "        return f'{self} is a Duck who paddles in the water, and waddles on the land.'\n",
    "        \n",
    "class Frog(Amphibian):\n",
    "    def __init__(self, name, depth):\n",
    "        super().__init__(name, depth)\n",
    "    def ribbit(self):\n",
    "        return f'{self} is a Frog and says Ribbit. {self} can go down in the water to a depth of {self.depth} feet.'\n",
    "        \n",
    "class Trout(Fish):\n",
    "    def __init__(self, name, depth):\n",
    "        super().__init__(name, depth)\n",
    "    def almondine(self):\n",
    "        return f'{self} is a Trout, and swims at a depth of {self.depth} feet'"
   ]
  },
  {
   "cell_type": "markdown",
   "id": "4ca5f136",
   "metadata": {},
   "source": [
    "### Run some test cases."
   ]
  },
  {
   "cell_type": "code",
   "execution_count": 80,
   "id": "217301e6",
   "metadata": {},
   "outputs": [
    {
     "name": "stdout",
     "output_type": "stream",
     "text": [
      "Lupo\n",
      "Lupo is a Mammal and likes to run through the woods.\n",
      "Lupo is a Wolf and likes to howl\n"
     ]
    }
   ],
   "source": [
    "w = Wolf('Lupo')\n",
    "print(w)\n",
    "print(w.run())\n",
    "print(w.howl())"
   ]
  },
  {
   "cell_type": "code",
   "execution_count": 81,
   "id": "00aaf11d",
   "metadata": {},
   "outputs": [
    {
     "name": "stdout",
     "output_type": "stream",
     "text": [
      "Smokey\n",
      "Smokey is a Mammal and likes to run through the woods.\n",
      "Smokey is a Bear and loves honey.\n"
     ]
    }
   ],
   "source": [
    "b = Bear('Smokey')\n",
    "print(b)\n",
    "print(b.run())\n",
    "print(b.honey())"
   ]
  },
  {
   "cell_type": "code",
   "execution_count": 82,
   "id": "4fd9420b",
   "metadata": {},
   "outputs": [
    {
     "name": "stdout",
     "output_type": "stream",
     "text": [
      "Baldie\n",
      "Baldie is a Bird and likes to fly in the sky.\n",
      "Baldie is an Eagle and soars in the sky.\n"
     ]
    }
   ],
   "source": [
    "e = Eagle('Baldie')\n",
    "print(e)\n",
    "print(e.fly())\n",
    "print(e.soar())"
   ]
  },
  {
   "cell_type": "code",
   "execution_count": 83,
   "id": "5d101803",
   "metadata": {},
   "outputs": [
    {
     "name": "stdout",
     "output_type": "stream",
     "text": [
      "Donald\n",
      "Donald is a Bird and likes to fly in the sky.\n",
      "Donald is a Duck who paddles in the water, and waddles on the land.\n"
     ]
    }
   ],
   "source": [
    "d = Duck('Donald')\n",
    "print(d)\n",
    "print(d.fly())\n",
    "print(d.paddle_waddle())"
   ]
  },
  {
   "cell_type": "code",
   "execution_count": 84,
   "id": "925a0404",
   "metadata": {},
   "outputs": [
    {
     "name": "stdout",
     "output_type": "stream",
     "text": [
      "Kermit\n",
      "Kermit is an Amphibian who lives on the land, and in the water.\n",
      "Kermit is a Frog and says Ribbit. Kermit can go down in the water to a depth of 5 feet.\n"
     ]
    }
   ],
   "source": [
    "f = Frog('Kermit', 5)\n",
    "print(f)\n",
    "print(f.lives_in())\n",
    "print(f.ribbit())"
   ]
  },
  {
   "cell_type": "code",
   "execution_count": 85,
   "id": "946fa008",
   "metadata": {},
   "outputs": [
    {
     "name": "stdout",
     "output_type": "stream",
     "text": [
      "Tommy\n",
      "Tommy is a Fish and loves to swim.\n",
      "Tommy is a Trout, and swims at a depth of 20 feet\n"
     ]
    }
   ],
   "source": [
    "t = Trout('Tommy', 20)\n",
    "print(t)\n",
    "print(t.swims())\n",
    "print(t.almondine())"
   ]
  }
 ],
 "metadata": {
  "kernelspec": {
   "display_name": "Python 3 (ipykernel)",
   "language": "python",
   "name": "python3"
  },
  "language_info": {
   "codemirror_mode": {
    "name": "ipython",
    "version": 3
   },
   "file_extension": ".py",
   "mimetype": "text/x-python",
   "name": "python",
   "nbconvert_exporter": "python",
   "pygments_lexer": "ipython3",
   "version": "3.10.0"
  }
 },
 "nbformat": 4,
 "nbformat_minor": 5
}
